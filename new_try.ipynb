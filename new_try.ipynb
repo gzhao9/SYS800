{
 "cells": [
  {
   "cell_type": "code",
   "execution_count": 61,
   "source": [
    "import csv\r\n",
    "from collections import defaultdict\r\n",
    "from datetime import  datetime\r\n",
    "from scipy.io import arff\r\n",
    "import matplotlib.pyplot as plt\r\n",
    "import pandas as pd\r\n",
    "import numpy as np\r\n",
    "import statistics as stat\r\n",
    "from sklearn.linear_model import LinearRegression\r\n",
    "from sklearn.metrics import mean_squared_error, r2_score\r\n",
    "import seaborn as sns\r\n",
    "import matplotlib.pyplot as plt\r\n",
    "\r\n",
    "import matplotlib.dates as mdates\r\n",
    "import matplotlib.ticker as mticker\r\n",
    "import matplotlib.colors as mcolors\r\n",
    "from collections import defaultdict\r\n",
    "from collections import Counter\r\n",
    "from datetime import  datetime\r\n",
    "\r\n",
    "%matplotlib inline\r\n",
    "plt.style.use('fivethirtyeight')\r\n",
    "plt.rcParams['figure.figsize'] = (15,5)"
   ],
   "outputs": [],
   "metadata": {}
  },
  {
   "cell_type": "markdown",
   "source": [
    "创建并且把配对储存为CSV"
   ],
   "metadata": {}
  },
  {
   "cell_type": "code",
   "execution_count": 27,
   "source": [
    "\r\n",
    "def csv_dict_write(path,head,data):\r\n",
    "    with open(path,'w',encoding='utf-8',newline='') as f:\r\n",
    "        writer = csv.DictWriter(f,head)\r\n",
    "        writer.writeheader()\r\n",
    "        writer.writerows(data)\r\n",
    "        return True\r\n"
   ],
   "outputs": [],
   "metadata": {}
  },
  {
   "cell_type": "code",
   "execution_count": 28,
   "source": [
    "\r\n",
    "def csv_dict_read(path):\r\n",
    "    f=open(path,'r',encoding='utf-8')\r\n",
    "    reader = csv.DictReader(f,dialect='excel')\r\n",
    "    return reader\r\n"
   ],
   "outputs": [],
   "metadata": {}
  },
  {
   "cell_type": "code",
   "execution_count": 52,
   "source": [
    "def get_lable(path):\r\n",
    "    reader = csv_dict_read(path)\r\n",
    "    data=[]\r\n",
    "    LDi_list=defaultdict(list)\r\n",
    "    comment_ID_list=defaultdict(list)\r\n",
    "    comment_time=defaultdict(list)\r\n",
    "    comment_timedata=defaultdict(list)\r\n",
    "    commer_per_list=defaultdict(list)\r\n",
    "    time_gap=0\r\n",
    "    time_gap_list=defaultdict(list)\r\n",
    "    head=['issue_no','comment_ID_list','LDi_list','comment_time','commer_per_list','time_gap','time_gap_list','LD1','LD2','LD3','LD4','LD5','LD6','N','total']\r\n",
    "    for row in reader:\r\n",
    "        try:\r\n",
    "            time=datetime.strptime(row['time'],'%Y-%m-%dT%H:%M:%SZ')\r\n",
    "        except:\r\n",
    "            pass\r\n",
    "        LDi_list[row['issue_no']].append(row['pred_label_y'])\r\n",
    "        comment_ID_list[row['issue_no']].append(row['comment_ID'])\r\n",
    "        comment_time[row['issue_no']].append(row['time'])\r\n",
    "        comment_timedata[row['issue_no']].append(time)\r\n",
    "    for i,j in LDi_list.items():\r\n",
    "        if len(j)>1:\r\n",
    "            try:\r\n",
    "                time_gap=(comment_timedata[i][-1]-comment_timedata[i][0]).seconds\r\n",
    "            except:\r\n",
    "                time_gap='bad'\r\n",
    "            for x in range(1,len(j)):\r\n",
    "                commer_per_list[i].append([j[x-1],j[x]])\r\n",
    "                try:\r\n",
    "                    time_gap_list[i].append((comment_timedata[i][x]-comment_timedata[i][x-1]).seconds)\r\n",
    "                except:\r\n",
    "                     time_gap_list[i].append('bad')\r\n",
    "        data.append({'issue_no':i,\r\n",
    "        'comment_ID_list':comment_ID_list[i],\r\n",
    "        'LDi_list':LDi_list[i],\r\n",
    "        'comment_time':comment_time[i],\r\n",
    "        'commer_per_list':commer_per_list[i],\r\n",
    "        'time_gap':time_gap,\r\n",
    "        'time_gap_list':time_gap_list[i],\r\n",
    "        'LD1':j.count('LD1'),\r\n",
    "        'LD2':j.count('LD2'),\r\n",
    "        'LD3':j.count('LD3'),\r\n",
    "        'LD4':j.count('LD4'),\r\n",
    "        'LD5':j.count('LD5'),\r\n",
    "        'LD6':j.count('LD6'),\r\n",
    "        'N':j.count('N'),\r\n",
    "        'total':len(j)})\r\n",
    "    csv_dict_write('lab\\\\'+path[:-4]+'_lab'+'.CSV',head,data)\r\n"
   ],
   "outputs": [],
   "metadata": {}
  },
  {
   "cell_type": "code",
   "execution_count": 30,
   "source": [
    "def creat_lable():\r\n",
    "    get_lable('new_atom.CSV')\r\n",
    "    get_lable('new_bitcoin.CSV')\r\n",
    "    get_lable('new_brew.CSV')\r\n",
    "    get_lable('new_ember.CSV')\r\n",
    "    get_lable('new_scikit-learn.CSV')"
   ],
   "outputs": [],
   "metadata": {}
  },
  {
   "cell_type": "code",
   "execution_count": 54,
   "source": [
    "#creat_lable()"
   ],
   "outputs": [],
   "metadata": {}
  },
  {
   "cell_type": "code",
   "execution_count": 56,
   "source": [
    "atom_lab=pd.read_csv('lab\\\\new_atom_lab.CSV')\r\n",
    "bitcoin_lab=pd.read_csv('lab\\\\new_bitcoin_lab.CSV')\r\n",
    "brew_lab=pd.read_csv('lab\\\\new_brew_lab.CSV')\r\n",
    "ember_lab=pd.read_csv('lab\\\\new_ember_lab.CSV')\r\n",
    "s_learn_lab=pd.read_csv('lab\\\\new_scikit-learn_lab.CSV')\r\n",
    "date_list=[atom_lab,bitcoin_lab,brew_lab,ember_lab,s_learn_lab]"
   ],
   "outputs": [],
   "metadata": {}
  },
  {
   "cell_type": "code",
   "execution_count": 79,
   "source": [
    "a=atom_lab.commer_per_list.to_list()\r\n",
    "a=list(a)\r\n",
    "for i in range(len(a)):\r\n",
    "    a[i]=a[i][2:-2].split('], [')\r\n",
    "\r\n",
    "a[1][0]"
   ],
   "outputs": [
    {
     "output_type": "execute_result",
     "data": {
      "text/plain": [
       "\"'N', 'N'\""
      ]
     },
     "metadata": {},
     "execution_count": 79
    }
   ],
   "metadata": {}
  },
  {
   "cell_type": "code",
   "execution_count": 108,
   "source": [
    "b=list()\r\n",
    "for i in a:\r\n",
    "    for l in i:\r\n",
    "        if len(l)>4:\r\n",
    "            l=l[1:-1].split(\"', '\")\r\n",
    "            l=l[0]+l[1]\r\n",
    "            l=l.replace('LD','')\r\n",
    "        b.append(l)\r\n"
   ],
   "outputs": [],
   "metadata": {}
  },
  {
   "cell_type": "code",
   "execution_count": 117,
   "source": [
    "dict(Counter(b))"
   ],
   "outputs": [
    {
     "output_type": "execute_result",
     "data": {
      "text/plain": [
       "{'': 6596,\n",
       " 'NN': 13551,\n",
       " 'N3': 3232,\n",
       " '45': 415,\n",
       " 'N6': 297,\n",
       " '6N': 309,\n",
       " 'N5': 1091,\n",
       " 'N1': 1026,\n",
       " '1N': 1215,\n",
       " '3N': 3361,\n",
       " '53': 205,\n",
       " '5N': 595,\n",
       " 'N2': 667,\n",
       " '2N': 806,\n",
       " 'N4': 1890,\n",
       " '4N': 2575,\n",
       " '14': 226,\n",
       " '44': 645,\n",
       " '46': 55,\n",
       " '51': 58,\n",
       " '41': 278,\n",
       " '11': 167,\n",
       " '15': 162,\n",
       " '35': 332,\n",
       " '22': 97,\n",
       " '32': 284,\n",
       " '23': 188,\n",
       " '43': 717,\n",
       " '34': 527,\n",
       " '33': 1597,\n",
       " '31': 270,\n",
       " '55': 89,\n",
       " '63': 36,\n",
       " '13': 310,\n",
       " '26': 12,\n",
       " '62': 17,\n",
       " '12': 64,\n",
       " '16': 31,\n",
       " '54': 89,\n",
       " '42': 193,\n",
       " '64': 42,\n",
       " '36': 66,\n",
       " '56': 18,\n",
       " '65': 23,\n",
       " '24': 137,\n",
       " '25': 104,\n",
       " '61': 20,\n",
       " '66': 17,\n",
       " '21': 63,\n",
       " '52': 37,\n",
       " 'N': 25,\n",
       " '3': 11,\n",
       " '4': 4,\n",
       " '1': 2,\n",
       " '2': 3,\n",
       " '5': 2}"
      ]
     },
     "metadata": {},
     "execution_count": 117
    }
   ],
   "metadata": {}
  },
  {
   "cell_type": "code",
   "execution_count": 155,
   "source": [
    "def get_pair(data):\r\n",
    "    a=data.commer_per_list.to_list()\r\n",
    "    a=list(a)\r\n",
    "    for i in range(len(a)):\r\n",
    "        a[i]=a[i][2:-2].split('], [')\r\n",
    "    b=list()\r\n",
    "    for i in a:\r\n",
    "        for l in i:\r\n",
    "            if len(l)>4:\r\n",
    "                l=l[1:-1].split(\"', '\")\r\n",
    "                l=l[0]+l[1]\r\n",
    "                l=l.replace('LD','')\r\n",
    "            b.append(l)\r\n",
    "    v={\r\n",
    "    'pair':list(dict(Counter(b)).keys()),\r\n",
    "    'number':list(dict(Counter(b)).values())\r\n",
    "    }\r\n",
    "    result=pd.DataFrame(data=v)\r\n",
    "    return result"
   ],
   "outputs": [],
   "metadata": {}
  },
  {
   "cell_type": "code",
   "execution_count": 160,
   "source": [],
   "outputs": [
    {
     "output_type": "execute_result",
     "data": {
      "text/html": [
       "<div>\n",
       "<style scoped>\n",
       "    .dataframe tbody tr th:only-of-type {\n",
       "        vertical-align: middle;\n",
       "    }\n",
       "\n",
       "    .dataframe tbody tr th {\n",
       "        vertical-align: top;\n",
       "    }\n",
       "\n",
       "    .dataframe thead th {\n",
       "        text-align: right;\n",
       "    }\n",
       "</style>\n",
       "<table border=\"1\" class=\"dataframe\">\n",
       "  <thead>\n",
       "    <tr style=\"text-align: right;\">\n",
       "      <th></th>\n",
       "      <th>number</th>\n",
       "    </tr>\n",
       "  </thead>\n",
       "  <tbody>\n",
       "    <tr>\n",
       "      <th>count</th>\n",
       "      <td>56.000000</td>\n",
       "    </tr>\n",
       "    <tr>\n",
       "      <th>mean</th>\n",
       "      <td>800.875000</td>\n",
       "    </tr>\n",
       "    <tr>\n",
       "      <th>std</th>\n",
       "      <td>2059.055053</td>\n",
       "    </tr>\n",
       "    <tr>\n",
       "      <th>min</th>\n",
       "      <td>2.000000</td>\n",
       "    </tr>\n",
       "    <tr>\n",
       "      <th>25%</th>\n",
       "      <td>36.750000</td>\n",
       "    </tr>\n",
       "    <tr>\n",
       "      <th>50%</th>\n",
       "      <td>177.500000</td>\n",
       "    </tr>\n",
       "    <tr>\n",
       "      <th>75%</th>\n",
       "      <td>607.500000</td>\n",
       "    </tr>\n",
       "    <tr>\n",
       "      <th>max</th>\n",
       "      <td>13551.000000</td>\n",
       "    </tr>\n",
       "  </tbody>\n",
       "</table>\n",
       "</div>"
      ],
      "text/plain": [
       "             number\n",
       "count     56.000000\n",
       "mean     800.875000\n",
       "std     2059.055053\n",
       "min        2.000000\n",
       "25%       36.750000\n",
       "50%      177.500000\n",
       "75%      607.500000\n",
       "max    13551.000000"
      ]
     },
     "metadata": {},
     "execution_count": 160
    }
   ],
   "metadata": {}
  }
 ],
 "metadata": {
  "orig_nbformat": 4,
  "language_info": {
   "name": "python",
   "version": "3.8.5",
   "mimetype": "text/x-python",
   "codemirror_mode": {
    "name": "ipython",
    "version": 3
   },
   "pygments_lexer": "ipython3",
   "nbconvert_exporter": "python",
   "file_extension": ".py"
  },
  "kernelspec": {
   "name": "python3",
   "display_name": "Python 3.8.5 64-bit ('base': conda)"
  },
  "interpreter": {
   "hash": "8cca54e51425de07535edfb83c2fddd4e7c14a21f4c6dcd6d3a0620f362dd02b"
  }
 },
 "nbformat": 4,
 "nbformat_minor": 2
}